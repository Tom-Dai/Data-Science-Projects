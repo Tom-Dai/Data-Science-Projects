{
  "nbformat": 4,
  "nbformat_minor": 0,
  "metadata": {
    "colab": {
      "provenance": []
    },
    "kernelspec": {
      "name": "python3",
      "display_name": "Python 3"
    },
    "language_info": {
      "name": "python"
    }
  },
  "cells": [
    {
      "cell_type": "markdown",
      "source": [
        "Project 2\n",
        "Tom Dai\n",
        "UID: 118022796\n",
        "README: https://github.com/nayeemmz/cmsc320Projects/blob/master/Project2/project2.md"
      ],
      "metadata": {
        "id": "7C_qruv_uZOR"
      }
    },
    {
      "cell_type": "markdown",
      "source": [
        "Part 1)"
      ],
      "metadata": {
        "id": "uHlE4gdAvNiT"
      }
    },
    {
      "cell_type": "code",
      "execution_count": null,
      "metadata": {
        "colab": {
          "base_uri": "https://localhost:8080/",
          "height": 424
        },
        "id": "tXOcyJ5BuL84",
        "outputId": "4bc2a32e-eb5d-4497-9bb5-b3b1fe380305"
      },
      "outputs": [
        {
          "output_type": "execute_result",
          "data": {
            "text/plain": [
              "     yearID teamID  winPercent  total_payroll\n",
              "0      1901    BLA   51.127820            NaN\n",
              "1      1902    BLA   36.231884            NaN\n",
              "2      1903    BOS   65.942029            NaN\n",
              "3      1904    BOS   61.688312            NaN\n",
              "4      1905    BOS   51.315789            NaN\n",
              "..      ...    ...         ...            ...\n",
              "248    2010    ARI   40.123457   1.376267e+09\n",
              "249    2011    ARI   58.024691   1.417338e+09\n",
              "250    2012    ARI   50.000000   1.471498e+09\n",
              "251    2013    ARI   50.000000   1.501399e+09\n",
              "252    2014    ARI   39.506173   1.664735e+09\n",
              "\n",
              "[253 rows x 4 columns]"
            ],
            "text/html": [
              "\n",
              "  <div id=\"df-3887566b-3b9e-4ed4-b5cb-819641e5ff45\">\n",
              "    <div class=\"colab-df-container\">\n",
              "      <div>\n",
              "<style scoped>\n",
              "    .dataframe tbody tr th:only-of-type {\n",
              "        vertical-align: middle;\n",
              "    }\n",
              "\n",
              "    .dataframe tbody tr th {\n",
              "        vertical-align: top;\n",
              "    }\n",
              "\n",
              "    .dataframe thead th {\n",
              "        text-align: right;\n",
              "    }\n",
              "</style>\n",
              "<table border=\"1\" class=\"dataframe\">\n",
              "  <thead>\n",
              "    <tr style=\"text-align: right;\">\n",
              "      <th></th>\n",
              "      <th>yearID</th>\n",
              "      <th>teamID</th>\n",
              "      <th>winPercent</th>\n",
              "      <th>total_payroll</th>\n",
              "    </tr>\n",
              "  </thead>\n",
              "  <tbody>\n",
              "    <tr>\n",
              "      <th>0</th>\n",
              "      <td>1901</td>\n",
              "      <td>BLA</td>\n",
              "      <td>51.127820</td>\n",
              "      <td>NaN</td>\n",
              "    </tr>\n",
              "    <tr>\n",
              "      <th>1</th>\n",
              "      <td>1902</td>\n",
              "      <td>BLA</td>\n",
              "      <td>36.231884</td>\n",
              "      <td>NaN</td>\n",
              "    </tr>\n",
              "    <tr>\n",
              "      <th>2</th>\n",
              "      <td>1903</td>\n",
              "      <td>BOS</td>\n",
              "      <td>65.942029</td>\n",
              "      <td>NaN</td>\n",
              "    </tr>\n",
              "    <tr>\n",
              "      <th>3</th>\n",
              "      <td>1904</td>\n",
              "      <td>BOS</td>\n",
              "      <td>61.688312</td>\n",
              "      <td>NaN</td>\n",
              "    </tr>\n",
              "    <tr>\n",
              "      <th>4</th>\n",
              "      <td>1905</td>\n",
              "      <td>BOS</td>\n",
              "      <td>51.315789</td>\n",
              "      <td>NaN</td>\n",
              "    </tr>\n",
              "    <tr>\n",
              "      <th>...</th>\n",
              "      <td>...</td>\n",
              "      <td>...</td>\n",
              "      <td>...</td>\n",
              "      <td>...</td>\n",
              "    </tr>\n",
              "    <tr>\n",
              "      <th>248</th>\n",
              "      <td>2010</td>\n",
              "      <td>ARI</td>\n",
              "      <td>40.123457</td>\n",
              "      <td>1.376267e+09</td>\n",
              "    </tr>\n",
              "    <tr>\n",
              "      <th>249</th>\n",
              "      <td>2011</td>\n",
              "      <td>ARI</td>\n",
              "      <td>58.024691</td>\n",
              "      <td>1.417338e+09</td>\n",
              "    </tr>\n",
              "    <tr>\n",
              "      <th>250</th>\n",
              "      <td>2012</td>\n",
              "      <td>ARI</td>\n",
              "      <td>50.000000</td>\n",
              "      <td>1.471498e+09</td>\n",
              "    </tr>\n",
              "    <tr>\n",
              "      <th>251</th>\n",
              "      <td>2013</td>\n",
              "      <td>ARI</td>\n",
              "      <td>50.000000</td>\n",
              "      <td>1.501399e+09</td>\n",
              "    </tr>\n",
              "    <tr>\n",
              "      <th>252</th>\n",
              "      <td>2014</td>\n",
              "      <td>ARI</td>\n",
              "      <td>39.506173</td>\n",
              "      <td>1.664735e+09</td>\n",
              "    </tr>\n",
              "  </tbody>\n",
              "</table>\n",
              "<p>253 rows × 4 columns</p>\n",
              "</div>\n",
              "      <button class=\"colab-df-convert\" onclick=\"convertToInteractive('df-3887566b-3b9e-4ed4-b5cb-819641e5ff45')\"\n",
              "              title=\"Convert this dataframe to an interactive table.\"\n",
              "              style=\"display:none;\">\n",
              "        \n",
              "  <svg xmlns=\"http://www.w3.org/2000/svg\" height=\"24px\"viewBox=\"0 0 24 24\"\n",
              "       width=\"24px\">\n",
              "    <path d=\"M0 0h24v24H0V0z\" fill=\"none\"/>\n",
              "    <path d=\"M18.56 5.44l.94 2.06.94-2.06 2.06-.94-2.06-.94-.94-2.06-.94 2.06-2.06.94zm-11 1L8.5 8.5l.94-2.06 2.06-.94-2.06-.94L8.5 2.5l-.94 2.06-2.06.94zm10 10l.94 2.06.94-2.06 2.06-.94-2.06-.94-.94-2.06-.94 2.06-2.06.94z\"/><path d=\"M17.41 7.96l-1.37-1.37c-.4-.4-.92-.59-1.43-.59-.52 0-1.04.2-1.43.59L10.3 9.45l-7.72 7.72c-.78.78-.78 2.05 0 2.83L4 21.41c.39.39.9.59 1.41.59.51 0 1.02-.2 1.41-.59l7.78-7.78 2.81-2.81c.8-.78.8-2.07 0-2.86zM5.41 20L4 18.59l7.72-7.72 1.47 1.35L5.41 20z\"/>\n",
              "  </svg>\n",
              "      </button>\n",
              "      \n",
              "  <style>\n",
              "    .colab-df-container {\n",
              "      display:flex;\n",
              "      flex-wrap:wrap;\n",
              "      gap: 12px;\n",
              "    }\n",
              "\n",
              "    .colab-df-convert {\n",
              "      background-color: #E8F0FE;\n",
              "      border: none;\n",
              "      border-radius: 50%;\n",
              "      cursor: pointer;\n",
              "      display: none;\n",
              "      fill: #1967D2;\n",
              "      height: 32px;\n",
              "      padding: 0 0 0 0;\n",
              "      width: 32px;\n",
              "    }\n",
              "\n",
              "    .colab-df-convert:hover {\n",
              "      background-color: #E2EBFA;\n",
              "      box-shadow: 0px 1px 2px rgba(60, 64, 67, 0.3), 0px 1px 3px 1px rgba(60, 64, 67, 0.15);\n",
              "      fill: #174EA6;\n",
              "    }\n",
              "\n",
              "    [theme=dark] .colab-df-convert {\n",
              "      background-color: #3B4455;\n",
              "      fill: #D2E3FC;\n",
              "    }\n",
              "\n",
              "    [theme=dark] .colab-df-convert:hover {\n",
              "      background-color: #434B5C;\n",
              "      box-shadow: 0px 1px 3px 1px rgba(0, 0, 0, 0.15);\n",
              "      filter: drop-shadow(0px 1px 2px rgba(0, 0, 0, 0.3));\n",
              "      fill: #FFFFFF;\n",
              "    }\n",
              "  </style>\n",
              "\n",
              "      <script>\n",
              "        const buttonEl =\n",
              "          document.querySelector('#df-3887566b-3b9e-4ed4-b5cb-819641e5ff45 button.colab-df-convert');\n",
              "        buttonEl.style.display =\n",
              "          google.colab.kernel.accessAllowed ? 'block' : 'none';\n",
              "\n",
              "        async function convertToInteractive(key) {\n",
              "          const element = document.querySelector('#df-3887566b-3b9e-4ed4-b5cb-819641e5ff45');\n",
              "          const dataTable =\n",
              "            await google.colab.kernel.invokeFunction('convertToInteractive',\n",
              "                                                     [key], {});\n",
              "          if (!dataTable) return;\n",
              "\n",
              "          const docLinkHtml = 'Like what you see? Visit the ' +\n",
              "            '<a target=\"_blank\" href=https://colab.research.google.com/notebooks/data_table.ipynb>data table notebook</a>'\n",
              "            + ' to learn more about interactive tables.';\n",
              "          element.innerHTML = '';\n",
              "          dataTable['output_type'] = 'display_data';\n",
              "          await google.colab.output.renderOutput(dataTable, element);\n",
              "          const docLink = document.createElement('div');\n",
              "          docLink.innerHTML = docLinkHtml;\n",
              "          element.appendChild(docLink);\n",
              "        }\n",
              "      </script>\n",
              "    </div>\n",
              "  </div>\n",
              "  "
            ]
          },
          "metadata": {},
          "execution_count": 209
        }
      ],
      "source": [
        "import sqlite3\n",
        "import pandas\n",
        "#sql file\n",
        "sqlite_file = 'lahman2014.sqlite'\n",
        "conn = sqlite3.connect(sqlite_file)\n",
        "#querying team, year, and the salary of the team, MLB is divided into two leagues, the national league and American league\n",
        "AL_salary_query = \"SELECT yearID, teamID, sum(salary) as total_payroll FROM Salaries WHERE  lgID == 'AL'  GROUP BY yearID\"\n",
        "NL_salary_query = \"SELECT yearID, teamID, sum(salary) as total_payroll FROM Salaries WHERE  lgID == 'NL'  GROUP BY yearID\"\n",
        "#querying team, year, and the percentage of wins of the team\n",
        "NL_win_query = \"SELECT yearID, teamID, 100.0*W/(W+L) as winPercent From Teams WHERE  lgID == 'NL'  GROUP BY yearID\"\n",
        "AL_win_query = \"SELECT yearID, teamID, 100.0*W/(W+L) as winPercent From Teams WHERE  lgID == 'AL'  GROUP BY yearID\"\n",
        "#SQL->Pandas\n",
        "AL_s = pandas.read_sql(AL_salary_query, conn)\n",
        "NL_s = pandas.read_sql(NL_salary_query, conn)\n",
        "AL_w = pandas.read_sql(AL_win_query, conn)\n",
        "NL_w = pandas.read_sql(NL_win_query, conn)\n",
        "team_salaries = pandas.concat([AL_s,NL_s],ignore_index= True)\n",
        "team_wins = pandas.concat([AL_w,NL_w],ignore_index= True)\n",
        "#merging with outer join\n",
        "df = pandas.merge(team_wins,team_salaries, how ='outer')\n",
        "df\n"
      ]
    },
    {
      "cell_type": "markdown",
      "source": [
        "As you can see we have some missing values, but no payroll. We used an outer join, which means that data will be merged with corresponding keys, regardless if they have missing data. Since the creation of this table is a relationship between payroll and winning percentage, what we can do instead is only taking the data of both tables that interect, that is-being present in both tables (yearID and teamID). To fix this, all we need to do is simply perform an inner join instead of an outer join shown above."
      ],
      "metadata": {
        "id": "pd5Yp4BKfTx_"
      }
    },
    {
      "cell_type": "code",
      "source": [
        "#note that we are now using inner join\n",
        "intersect = team_salaries.merge(team_wins,how='inner',on=['yearID','teamID'])\n",
        "intersect"
      ],
      "metadata": {
        "colab": {
          "base_uri": "https://localhost:8080/",
          "height": 1000
        },
        "id": "Zqf3uRnAhVAA",
        "outputId": "abaf955a-980e-4056-bffd-78156b61c283"
      },
      "execution_count": null,
      "outputs": [
        {
          "output_type": "execute_result",
          "data": {
            "text/plain": [
              "    yearID teamID  total_payroll  winPercent\n",
              "0     1985    BAL   1.344011e+08   51.552795\n",
              "1     1986    BAL   1.577164e+08   45.061728\n",
              "2     1987    BAL   1.360887e+08   41.358025\n",
              "3     1988    BAL   1.570498e+08   33.540373\n",
              "4     1989    BAL   1.887717e+08   53.703704\n",
              "5     1990    BAL   2.371971e+08   47.204969\n",
              "6     1991    BAL   3.350988e+08   41.358025\n",
              "7     1992    BAL   4.386076e+08   54.938272\n",
              "8     1993    BAL   4.813734e+08   52.469136\n",
              "9     1994    BAL   4.918558e+08   56.250000\n",
              "10    1995    BAL   5.105735e+08   49.305556\n",
              "11    1996    BAL   4.927948e+08   54.320988\n",
              "12    1997    ANA   5.857373e+08   51.851852\n",
              "13    1998    ANA   6.358088e+08   52.469136\n",
              "14    1999    ANA   7.083776e+08   43.209877\n",
              "15    2000    ANA   7.777078e+08   50.617284\n",
              "16    2001    ANA   9.402731e+08   46.296296\n",
              "17    2002    ANA   9.722594e+08   61.111111\n",
              "18    2003    ANA   9.620020e+08   47.530864\n",
              "19    2004    ANA   9.867738e+08   56.790123\n",
              "20    2005    BAL   1.053861e+09   45.679012\n",
              "21    2006    BAL   1.167620e+09   43.209877\n",
              "22    2007    BAL   1.298626e+09   42.592593\n",
              "23    2008    BAL   1.355683e+09   42.236025\n",
              "24    2009    BAL   1.305002e+09   39.506173\n",
              "25    2010    BAL   1.345093e+09   40.740741\n",
              "26    2011    BAL   1.367167e+09   42.592593\n",
              "27    2012    BAL   1.461243e+09   57.407407\n",
              "28    2013    BAL   1.533127e+09   52.469136\n",
              "29    2014    BAL   1.527583e+09   59.259259\n",
              "30    1985    ATL   1.275636e+08   40.740741\n",
              "31    1986    ATL   1.501381e+08   44.720497\n",
              "32    1987    ATL   1.364866e+08   42.857143\n",
              "33    1988    ATL   1.434026e+08   33.750000\n",
              "34    1989    ATL   1.712240e+08   39.375000\n",
              "35    1990    ATL   2.066841e+08   40.123457\n",
              "36    1991    ATL   2.779497e+08   58.024691\n",
              "37    1992    ATL   3.669357e+08   60.493827\n",
              "38    1993    ATL   4.203668e+08   64.197531\n",
              "39    1994    ATL   4.359804e+08   59.649123\n",
              "40    1995    ATL   4.408959e+08   62.500000\n",
              "41    1996    ATL   4.641887e+08   59.259259\n",
              "42    1997    ATL   5.415486e+08   62.345679\n",
              "43    1998    ARI   6.424741e+08   40.123457\n",
              "44    1999    ARI   7.858511e+08   61.728395\n",
              "45    2000    ARI   8.884273e+08   52.469136\n",
              "46    2001    ARI   1.020390e+09   56.790123\n",
              "47    2002    ARI   1.051818e+09   60.493827\n",
              "48    2003    ARI   1.166260e+09   51.851852\n",
              "49    2004    ARI   1.083892e+09   31.481481\n",
              "50    2005    ARI   1.134852e+09   47.530864\n",
              "51    2006    ARI   1.153853e+09   46.913580\n",
              "52    2007    ARI   1.178063e+09   55.555556\n",
              "53    2008    ARI   1.329176e+09   50.617284\n",
              "54    2009    ARI   1.359725e+09   43.209877\n",
              "55    2010    ARI   1.376267e+09   40.123457\n",
              "56    2011    ARI   1.417338e+09   58.024691\n",
              "57    2012    ARI   1.471498e+09   50.000000\n",
              "58    2013    ARI   1.501399e+09   50.000000\n",
              "59    2014    ARI   1.664735e+09   39.506173"
            ],
            "text/html": [
              "\n",
              "  <div id=\"df-3e07329b-6af7-47bf-8bf7-5ce7f01fd48d\">\n",
              "    <div class=\"colab-df-container\">\n",
              "      <div>\n",
              "<style scoped>\n",
              "    .dataframe tbody tr th:only-of-type {\n",
              "        vertical-align: middle;\n",
              "    }\n",
              "\n",
              "    .dataframe tbody tr th {\n",
              "        vertical-align: top;\n",
              "    }\n",
              "\n",
              "    .dataframe thead th {\n",
              "        text-align: right;\n",
              "    }\n",
              "</style>\n",
              "<table border=\"1\" class=\"dataframe\">\n",
              "  <thead>\n",
              "    <tr style=\"text-align: right;\">\n",
              "      <th></th>\n",
              "      <th>yearID</th>\n",
              "      <th>teamID</th>\n",
              "      <th>total_payroll</th>\n",
              "      <th>winPercent</th>\n",
              "    </tr>\n",
              "  </thead>\n",
              "  <tbody>\n",
              "    <tr>\n",
              "      <th>0</th>\n",
              "      <td>1985</td>\n",
              "      <td>BAL</td>\n",
              "      <td>1.344011e+08</td>\n",
              "      <td>51.552795</td>\n",
              "    </tr>\n",
              "    <tr>\n",
              "      <th>1</th>\n",
              "      <td>1986</td>\n",
              "      <td>BAL</td>\n",
              "      <td>1.577164e+08</td>\n",
              "      <td>45.061728</td>\n",
              "    </tr>\n",
              "    <tr>\n",
              "      <th>2</th>\n",
              "      <td>1987</td>\n",
              "      <td>BAL</td>\n",
              "      <td>1.360887e+08</td>\n",
              "      <td>41.358025</td>\n",
              "    </tr>\n",
              "    <tr>\n",
              "      <th>3</th>\n",
              "      <td>1988</td>\n",
              "      <td>BAL</td>\n",
              "      <td>1.570498e+08</td>\n",
              "      <td>33.540373</td>\n",
              "    </tr>\n",
              "    <tr>\n",
              "      <th>4</th>\n",
              "      <td>1989</td>\n",
              "      <td>BAL</td>\n",
              "      <td>1.887717e+08</td>\n",
              "      <td>53.703704</td>\n",
              "    </tr>\n",
              "    <tr>\n",
              "      <th>5</th>\n",
              "      <td>1990</td>\n",
              "      <td>BAL</td>\n",
              "      <td>2.371971e+08</td>\n",
              "      <td>47.204969</td>\n",
              "    </tr>\n",
              "    <tr>\n",
              "      <th>6</th>\n",
              "      <td>1991</td>\n",
              "      <td>BAL</td>\n",
              "      <td>3.350988e+08</td>\n",
              "      <td>41.358025</td>\n",
              "    </tr>\n",
              "    <tr>\n",
              "      <th>7</th>\n",
              "      <td>1992</td>\n",
              "      <td>BAL</td>\n",
              "      <td>4.386076e+08</td>\n",
              "      <td>54.938272</td>\n",
              "    </tr>\n",
              "    <tr>\n",
              "      <th>8</th>\n",
              "      <td>1993</td>\n",
              "      <td>BAL</td>\n",
              "      <td>4.813734e+08</td>\n",
              "      <td>52.469136</td>\n",
              "    </tr>\n",
              "    <tr>\n",
              "      <th>9</th>\n",
              "      <td>1994</td>\n",
              "      <td>BAL</td>\n",
              "      <td>4.918558e+08</td>\n",
              "      <td>56.250000</td>\n",
              "    </tr>\n",
              "    <tr>\n",
              "      <th>10</th>\n",
              "      <td>1995</td>\n",
              "      <td>BAL</td>\n",
              "      <td>5.105735e+08</td>\n",
              "      <td>49.305556</td>\n",
              "    </tr>\n",
              "    <tr>\n",
              "      <th>11</th>\n",
              "      <td>1996</td>\n",
              "      <td>BAL</td>\n",
              "      <td>4.927948e+08</td>\n",
              "      <td>54.320988</td>\n",
              "    </tr>\n",
              "    <tr>\n",
              "      <th>12</th>\n",
              "      <td>1997</td>\n",
              "      <td>ANA</td>\n",
              "      <td>5.857373e+08</td>\n",
              "      <td>51.851852</td>\n",
              "    </tr>\n",
              "    <tr>\n",
              "      <th>13</th>\n",
              "      <td>1998</td>\n",
              "      <td>ANA</td>\n",
              "      <td>6.358088e+08</td>\n",
              "      <td>52.469136</td>\n",
              "    </tr>\n",
              "    <tr>\n",
              "      <th>14</th>\n",
              "      <td>1999</td>\n",
              "      <td>ANA</td>\n",
              "      <td>7.083776e+08</td>\n",
              "      <td>43.209877</td>\n",
              "    </tr>\n",
              "    <tr>\n",
              "      <th>15</th>\n",
              "      <td>2000</td>\n",
              "      <td>ANA</td>\n",
              "      <td>7.777078e+08</td>\n",
              "      <td>50.617284</td>\n",
              "    </tr>\n",
              "    <tr>\n",
              "      <th>16</th>\n",
              "      <td>2001</td>\n",
              "      <td>ANA</td>\n",
              "      <td>9.402731e+08</td>\n",
              "      <td>46.296296</td>\n",
              "    </tr>\n",
              "    <tr>\n",
              "      <th>17</th>\n",
              "      <td>2002</td>\n",
              "      <td>ANA</td>\n",
              "      <td>9.722594e+08</td>\n",
              "      <td>61.111111</td>\n",
              "    </tr>\n",
              "    <tr>\n",
              "      <th>18</th>\n",
              "      <td>2003</td>\n",
              "      <td>ANA</td>\n",
              "      <td>9.620020e+08</td>\n",
              "      <td>47.530864</td>\n",
              "    </tr>\n",
              "    <tr>\n",
              "      <th>19</th>\n",
              "      <td>2004</td>\n",
              "      <td>ANA</td>\n",
              "      <td>9.867738e+08</td>\n",
              "      <td>56.790123</td>\n",
              "    </tr>\n",
              "    <tr>\n",
              "      <th>20</th>\n",
              "      <td>2005</td>\n",
              "      <td>BAL</td>\n",
              "      <td>1.053861e+09</td>\n",
              "      <td>45.679012</td>\n",
              "    </tr>\n",
              "    <tr>\n",
              "      <th>21</th>\n",
              "      <td>2006</td>\n",
              "      <td>BAL</td>\n",
              "      <td>1.167620e+09</td>\n",
              "      <td>43.209877</td>\n",
              "    </tr>\n",
              "    <tr>\n",
              "      <th>22</th>\n",
              "      <td>2007</td>\n",
              "      <td>BAL</td>\n",
              "      <td>1.298626e+09</td>\n",
              "      <td>42.592593</td>\n",
              "    </tr>\n",
              "    <tr>\n",
              "      <th>23</th>\n",
              "      <td>2008</td>\n",
              "      <td>BAL</td>\n",
              "      <td>1.355683e+09</td>\n",
              "      <td>42.236025</td>\n",
              "    </tr>\n",
              "    <tr>\n",
              "      <th>24</th>\n",
              "      <td>2009</td>\n",
              "      <td>BAL</td>\n",
              "      <td>1.305002e+09</td>\n",
              "      <td>39.506173</td>\n",
              "    </tr>\n",
              "    <tr>\n",
              "      <th>25</th>\n",
              "      <td>2010</td>\n",
              "      <td>BAL</td>\n",
              "      <td>1.345093e+09</td>\n",
              "      <td>40.740741</td>\n",
              "    </tr>\n",
              "    <tr>\n",
              "      <th>26</th>\n",
              "      <td>2011</td>\n",
              "      <td>BAL</td>\n",
              "      <td>1.367167e+09</td>\n",
              "      <td>42.592593</td>\n",
              "    </tr>\n",
              "    <tr>\n",
              "      <th>27</th>\n",
              "      <td>2012</td>\n",
              "      <td>BAL</td>\n",
              "      <td>1.461243e+09</td>\n",
              "      <td>57.407407</td>\n",
              "    </tr>\n",
              "    <tr>\n",
              "      <th>28</th>\n",
              "      <td>2013</td>\n",
              "      <td>BAL</td>\n",
              "      <td>1.533127e+09</td>\n",
              "      <td>52.469136</td>\n",
              "    </tr>\n",
              "    <tr>\n",
              "      <th>29</th>\n",
              "      <td>2014</td>\n",
              "      <td>BAL</td>\n",
              "      <td>1.527583e+09</td>\n",
              "      <td>59.259259</td>\n",
              "    </tr>\n",
              "    <tr>\n",
              "      <th>30</th>\n",
              "      <td>1985</td>\n",
              "      <td>ATL</td>\n",
              "      <td>1.275636e+08</td>\n",
              "      <td>40.740741</td>\n",
              "    </tr>\n",
              "    <tr>\n",
              "      <th>31</th>\n",
              "      <td>1986</td>\n",
              "      <td>ATL</td>\n",
              "      <td>1.501381e+08</td>\n",
              "      <td>44.720497</td>\n",
              "    </tr>\n",
              "    <tr>\n",
              "      <th>32</th>\n",
              "      <td>1987</td>\n",
              "      <td>ATL</td>\n",
              "      <td>1.364866e+08</td>\n",
              "      <td>42.857143</td>\n",
              "    </tr>\n",
              "    <tr>\n",
              "      <th>33</th>\n",
              "      <td>1988</td>\n",
              "      <td>ATL</td>\n",
              "      <td>1.434026e+08</td>\n",
              "      <td>33.750000</td>\n",
              "    </tr>\n",
              "    <tr>\n",
              "      <th>34</th>\n",
              "      <td>1989</td>\n",
              "      <td>ATL</td>\n",
              "      <td>1.712240e+08</td>\n",
              "      <td>39.375000</td>\n",
              "    </tr>\n",
              "    <tr>\n",
              "      <th>35</th>\n",
              "      <td>1990</td>\n",
              "      <td>ATL</td>\n",
              "      <td>2.066841e+08</td>\n",
              "      <td>40.123457</td>\n",
              "    </tr>\n",
              "    <tr>\n",
              "      <th>36</th>\n",
              "      <td>1991</td>\n",
              "      <td>ATL</td>\n",
              "      <td>2.779497e+08</td>\n",
              "      <td>58.024691</td>\n",
              "    </tr>\n",
              "    <tr>\n",
              "      <th>37</th>\n",
              "      <td>1992</td>\n",
              "      <td>ATL</td>\n",
              "      <td>3.669357e+08</td>\n",
              "      <td>60.493827</td>\n",
              "    </tr>\n",
              "    <tr>\n",
              "      <th>38</th>\n",
              "      <td>1993</td>\n",
              "      <td>ATL</td>\n",
              "      <td>4.203668e+08</td>\n",
              "      <td>64.197531</td>\n",
              "    </tr>\n",
              "    <tr>\n",
              "      <th>39</th>\n",
              "      <td>1994</td>\n",
              "      <td>ATL</td>\n",
              "      <td>4.359804e+08</td>\n",
              "      <td>59.649123</td>\n",
              "    </tr>\n",
              "    <tr>\n",
              "      <th>40</th>\n",
              "      <td>1995</td>\n",
              "      <td>ATL</td>\n",
              "      <td>4.408959e+08</td>\n",
              "      <td>62.500000</td>\n",
              "    </tr>\n",
              "    <tr>\n",
              "      <th>41</th>\n",
              "      <td>1996</td>\n",
              "      <td>ATL</td>\n",
              "      <td>4.641887e+08</td>\n",
              "      <td>59.259259</td>\n",
              "    </tr>\n",
              "    <tr>\n",
              "      <th>42</th>\n",
              "      <td>1997</td>\n",
              "      <td>ATL</td>\n",
              "      <td>5.415486e+08</td>\n",
              "      <td>62.345679</td>\n",
              "    </tr>\n",
              "    <tr>\n",
              "      <th>43</th>\n",
              "      <td>1998</td>\n",
              "      <td>ARI</td>\n",
              "      <td>6.424741e+08</td>\n",
              "      <td>40.123457</td>\n",
              "    </tr>\n",
              "    <tr>\n",
              "      <th>44</th>\n",
              "      <td>1999</td>\n",
              "      <td>ARI</td>\n",
              "      <td>7.858511e+08</td>\n",
              "      <td>61.728395</td>\n",
              "    </tr>\n",
              "    <tr>\n",
              "      <th>45</th>\n",
              "      <td>2000</td>\n",
              "      <td>ARI</td>\n",
              "      <td>8.884273e+08</td>\n",
              "      <td>52.469136</td>\n",
              "    </tr>\n",
              "    <tr>\n",
              "      <th>46</th>\n",
              "      <td>2001</td>\n",
              "      <td>ARI</td>\n",
              "      <td>1.020390e+09</td>\n",
              "      <td>56.790123</td>\n",
              "    </tr>\n",
              "    <tr>\n",
              "      <th>47</th>\n",
              "      <td>2002</td>\n",
              "      <td>ARI</td>\n",
              "      <td>1.051818e+09</td>\n",
              "      <td>60.493827</td>\n",
              "    </tr>\n",
              "    <tr>\n",
              "      <th>48</th>\n",
              "      <td>2003</td>\n",
              "      <td>ARI</td>\n",
              "      <td>1.166260e+09</td>\n",
              "      <td>51.851852</td>\n",
              "    </tr>\n",
              "    <tr>\n",
              "      <th>49</th>\n",
              "      <td>2004</td>\n",
              "      <td>ARI</td>\n",
              "      <td>1.083892e+09</td>\n",
              "      <td>31.481481</td>\n",
              "    </tr>\n",
              "    <tr>\n",
              "      <th>50</th>\n",
              "      <td>2005</td>\n",
              "      <td>ARI</td>\n",
              "      <td>1.134852e+09</td>\n",
              "      <td>47.530864</td>\n",
              "    </tr>\n",
              "    <tr>\n",
              "      <th>51</th>\n",
              "      <td>2006</td>\n",
              "      <td>ARI</td>\n",
              "      <td>1.153853e+09</td>\n",
              "      <td>46.913580</td>\n",
              "    </tr>\n",
              "    <tr>\n",
              "      <th>52</th>\n",
              "      <td>2007</td>\n",
              "      <td>ARI</td>\n",
              "      <td>1.178063e+09</td>\n",
              "      <td>55.555556</td>\n",
              "    </tr>\n",
              "    <tr>\n",
              "      <th>53</th>\n",
              "      <td>2008</td>\n",
              "      <td>ARI</td>\n",
              "      <td>1.329176e+09</td>\n",
              "      <td>50.617284</td>\n",
              "    </tr>\n",
              "    <tr>\n",
              "      <th>54</th>\n",
              "      <td>2009</td>\n",
              "      <td>ARI</td>\n",
              "      <td>1.359725e+09</td>\n",
              "      <td>43.209877</td>\n",
              "    </tr>\n",
              "    <tr>\n",
              "      <th>55</th>\n",
              "      <td>2010</td>\n",
              "      <td>ARI</td>\n",
              "      <td>1.376267e+09</td>\n",
              "      <td>40.123457</td>\n",
              "    </tr>\n",
              "    <tr>\n",
              "      <th>56</th>\n",
              "      <td>2011</td>\n",
              "      <td>ARI</td>\n",
              "      <td>1.417338e+09</td>\n",
              "      <td>58.024691</td>\n",
              "    </tr>\n",
              "    <tr>\n",
              "      <th>57</th>\n",
              "      <td>2012</td>\n",
              "      <td>ARI</td>\n",
              "      <td>1.471498e+09</td>\n",
              "      <td>50.000000</td>\n",
              "    </tr>\n",
              "    <tr>\n",
              "      <th>58</th>\n",
              "      <td>2013</td>\n",
              "      <td>ARI</td>\n",
              "      <td>1.501399e+09</td>\n",
              "      <td>50.000000</td>\n",
              "    </tr>\n",
              "    <tr>\n",
              "      <th>59</th>\n",
              "      <td>2014</td>\n",
              "      <td>ARI</td>\n",
              "      <td>1.664735e+09</td>\n",
              "      <td>39.506173</td>\n",
              "    </tr>\n",
              "  </tbody>\n",
              "</table>\n",
              "</div>\n",
              "      <button class=\"colab-df-convert\" onclick=\"convertToInteractive('df-3e07329b-6af7-47bf-8bf7-5ce7f01fd48d')\"\n",
              "              title=\"Convert this dataframe to an interactive table.\"\n",
              "              style=\"display:none;\">\n",
              "        \n",
              "  <svg xmlns=\"http://www.w3.org/2000/svg\" height=\"24px\"viewBox=\"0 0 24 24\"\n",
              "       width=\"24px\">\n",
              "    <path d=\"M0 0h24v24H0V0z\" fill=\"none\"/>\n",
              "    <path d=\"M18.56 5.44l.94 2.06.94-2.06 2.06-.94-2.06-.94-.94-2.06-.94 2.06-2.06.94zm-11 1L8.5 8.5l.94-2.06 2.06-.94-2.06-.94L8.5 2.5l-.94 2.06-2.06.94zm10 10l.94 2.06.94-2.06 2.06-.94-2.06-.94-.94-2.06-.94 2.06-2.06.94z\"/><path d=\"M17.41 7.96l-1.37-1.37c-.4-.4-.92-.59-1.43-.59-.52 0-1.04.2-1.43.59L10.3 9.45l-7.72 7.72c-.78.78-.78 2.05 0 2.83L4 21.41c.39.39.9.59 1.41.59.51 0 1.02-.2 1.41-.59l7.78-7.78 2.81-2.81c.8-.78.8-2.07 0-2.86zM5.41 20L4 18.59l7.72-7.72 1.47 1.35L5.41 20z\"/>\n",
              "  </svg>\n",
              "      </button>\n",
              "      \n",
              "  <style>\n",
              "    .colab-df-container {\n",
              "      display:flex;\n",
              "      flex-wrap:wrap;\n",
              "      gap: 12px;\n",
              "    }\n",
              "\n",
              "    .colab-df-convert {\n",
              "      background-color: #E8F0FE;\n",
              "      border: none;\n",
              "      border-radius: 50%;\n",
              "      cursor: pointer;\n",
              "      display: none;\n",
              "      fill: #1967D2;\n",
              "      height: 32px;\n",
              "      padding: 0 0 0 0;\n",
              "      width: 32px;\n",
              "    }\n",
              "\n",
              "    .colab-df-convert:hover {\n",
              "      background-color: #E2EBFA;\n",
              "      box-shadow: 0px 1px 2px rgba(60, 64, 67, 0.3), 0px 1px 3px 1px rgba(60, 64, 67, 0.15);\n",
              "      fill: #174EA6;\n",
              "    }\n",
              "\n",
              "    [theme=dark] .colab-df-convert {\n",
              "      background-color: #3B4455;\n",
              "      fill: #D2E3FC;\n",
              "    }\n",
              "\n",
              "    [theme=dark] .colab-df-convert:hover {\n",
              "      background-color: #434B5C;\n",
              "      box-shadow: 0px 1px 3px 1px rgba(0, 0, 0, 0.15);\n",
              "      filter: drop-shadow(0px 1px 2px rgba(0, 0, 0, 0.3));\n",
              "      fill: #FFFFFF;\n",
              "    }\n",
              "  </style>\n",
              "\n",
              "      <script>\n",
              "        const buttonEl =\n",
              "          document.querySelector('#df-3e07329b-6af7-47bf-8bf7-5ce7f01fd48d button.colab-df-convert');\n",
              "        buttonEl.style.display =\n",
              "          google.colab.kernel.accessAllowed ? 'block' : 'none';\n",
              "\n",
              "        async function convertToInteractive(key) {\n",
              "          const element = document.querySelector('#df-3e07329b-6af7-47bf-8bf7-5ce7f01fd48d');\n",
              "          const dataTable =\n",
              "            await google.colab.kernel.invokeFunction('convertToInteractive',\n",
              "                                                     [key], {});\n",
              "          if (!dataTable) return;\n",
              "\n",
              "          const docLinkHtml = 'Like what you see? Visit the ' +\n",
              "            '<a target=\"_blank\" href=https://colab.research.google.com/notebooks/data_table.ipynb>data table notebook</a>'\n",
              "            + ' to learn more about interactive tables.';\n",
              "          element.innerHTML = '';\n",
              "          dataTable['output_type'] = 'display_data';\n",
              "          await google.colab.output.renderOutput(dataTable, element);\n",
              "          const docLink = document.createElement('div');\n",
              "          docLink.innerHTML = docLinkHtml;\n",
              "          element.appendChild(docLink);\n",
              "        }\n",
              "      </script>\n",
              "    </div>\n",
              "  </div>\n",
              "  "
            ]
          },
          "metadata": {},
          "execution_count": 201
        }
      ]
    },
    {
      "cell_type": "markdown",
      "source": [
        "As you can see, the draw back is that we lose a lot of data that does not intersect. One method we can do to combat this is to use linear regression and estimate our missing values, but as you will see at the end, we probably cannot use it in this case to estimate missing payroll."
      ],
      "metadata": {
        "id": "ZFjYvTRYY2q4"
      }
    },
    {
      "cell_type": "markdown",
      "source": [
        "The table above has some problems with the join/merge, so here is another table that uses the sql join to fix."
      ],
      "metadata": {
        "id": "wKB6e_IGr79B"
      }
    },
    {
      "cell_type": "code",
      "source": [
        "merge_query= \"\"\"\n",
        "SELECT Salaries.yearID, Salaries.teamID, Teams.W, Teams.L, SUM(Salaries.salary) AS total_payroll\n",
        "FROM Salaries\n",
        "INNER JOIN Teams ON Salaries.yearID = Teams.yearID AND Salaries.teamID = Teams.teamID\n",
        "WHERE Teams.lgID = 'AL'\n",
        "GROUP BY Salaries.yearID, Salaries.teamID, Teams.W, Teams.L\n",
        "\"\"\"\n",
        "intersect = pandas.read_sql(merge_query, conn)\n",
        "intersect['winPercent']= 100*intersect['W']/ (intersect['W']+intersect['L'])\n",
        "intersect"
      ],
      "metadata": {
        "colab": {
          "base_uri": "https://localhost:8080/",
          "height": 424
        },
        "id": "zW_QtoCIbC-8",
        "outputId": "c59887a6-7c0d-461c-b6d7-df9e259718da"
      },
      "execution_count": null,
      "outputs": [
        {
          "output_type": "execute_result",
          "data": {
            "text/plain": [
              "     yearID teamID   W    L  total_payroll  winPercent\n",
              "0      1985    BAL  83   78     11560712.0   51.552795\n",
              "1      1985    BOS  81   81     10897560.0   50.000000\n",
              "2      1985    CAL  90   72     14427894.0   55.555556\n",
              "3      1985    CHA  85   77      9846178.0   52.469136\n",
              "4      1985    CLE  60  102      6551666.0   37.037037\n",
              "..      ...    ...  ..  ...            ...         ...\n",
              "417    2014    OAK  88   74     72408400.0   54.320988\n",
              "418    2014    SEA  87   75     92531100.0   53.703704\n",
              "419    2014    TBA  77   85     72689100.0   47.530864\n",
              "420    2014    TEX  67   95    112255059.0   41.358025\n",
              "421    2014    TOR  83   79    109920100.0   51.234568\n",
              "\n",
              "[422 rows x 6 columns]"
            ],
            "text/html": [
              "\n",
              "  <div id=\"df-a0bfed22-1b7c-41e1-a9cd-68b8f7e410d1\">\n",
              "    <div class=\"colab-df-container\">\n",
              "      <div>\n",
              "<style scoped>\n",
              "    .dataframe tbody tr th:only-of-type {\n",
              "        vertical-align: middle;\n",
              "    }\n",
              "\n",
              "    .dataframe tbody tr th {\n",
              "        vertical-align: top;\n",
              "    }\n",
              "\n",
              "    .dataframe thead th {\n",
              "        text-align: right;\n",
              "    }\n",
              "</style>\n",
              "<table border=\"1\" class=\"dataframe\">\n",
              "  <thead>\n",
              "    <tr style=\"text-align: right;\">\n",
              "      <th></th>\n",
              "      <th>yearID</th>\n",
              "      <th>teamID</th>\n",
              "      <th>W</th>\n",
              "      <th>L</th>\n",
              "      <th>total_payroll</th>\n",
              "      <th>winPercent</th>\n",
              "    </tr>\n",
              "  </thead>\n",
              "  <tbody>\n",
              "    <tr>\n",
              "      <th>0</th>\n",
              "      <td>1985</td>\n",
              "      <td>BAL</td>\n",
              "      <td>83</td>\n",
              "      <td>78</td>\n",
              "      <td>11560712.0</td>\n",
              "      <td>51.552795</td>\n",
              "    </tr>\n",
              "    <tr>\n",
              "      <th>1</th>\n",
              "      <td>1985</td>\n",
              "      <td>BOS</td>\n",
              "      <td>81</td>\n",
              "      <td>81</td>\n",
              "      <td>10897560.0</td>\n",
              "      <td>50.000000</td>\n",
              "    </tr>\n",
              "    <tr>\n",
              "      <th>2</th>\n",
              "      <td>1985</td>\n",
              "      <td>CAL</td>\n",
              "      <td>90</td>\n",
              "      <td>72</td>\n",
              "      <td>14427894.0</td>\n",
              "      <td>55.555556</td>\n",
              "    </tr>\n",
              "    <tr>\n",
              "      <th>3</th>\n",
              "      <td>1985</td>\n",
              "      <td>CHA</td>\n",
              "      <td>85</td>\n",
              "      <td>77</td>\n",
              "      <td>9846178.0</td>\n",
              "      <td>52.469136</td>\n",
              "    </tr>\n",
              "    <tr>\n",
              "      <th>4</th>\n",
              "      <td>1985</td>\n",
              "      <td>CLE</td>\n",
              "      <td>60</td>\n",
              "      <td>102</td>\n",
              "      <td>6551666.0</td>\n",
              "      <td>37.037037</td>\n",
              "    </tr>\n",
              "    <tr>\n",
              "      <th>...</th>\n",
              "      <td>...</td>\n",
              "      <td>...</td>\n",
              "      <td>...</td>\n",
              "      <td>...</td>\n",
              "      <td>...</td>\n",
              "      <td>...</td>\n",
              "    </tr>\n",
              "    <tr>\n",
              "      <th>417</th>\n",
              "      <td>2014</td>\n",
              "      <td>OAK</td>\n",
              "      <td>88</td>\n",
              "      <td>74</td>\n",
              "      <td>72408400.0</td>\n",
              "      <td>54.320988</td>\n",
              "    </tr>\n",
              "    <tr>\n",
              "      <th>418</th>\n",
              "      <td>2014</td>\n",
              "      <td>SEA</td>\n",
              "      <td>87</td>\n",
              "      <td>75</td>\n",
              "      <td>92531100.0</td>\n",
              "      <td>53.703704</td>\n",
              "    </tr>\n",
              "    <tr>\n",
              "      <th>419</th>\n",
              "      <td>2014</td>\n",
              "      <td>TBA</td>\n",
              "      <td>77</td>\n",
              "      <td>85</td>\n",
              "      <td>72689100.0</td>\n",
              "      <td>47.530864</td>\n",
              "    </tr>\n",
              "    <tr>\n",
              "      <th>420</th>\n",
              "      <td>2014</td>\n",
              "      <td>TEX</td>\n",
              "      <td>67</td>\n",
              "      <td>95</td>\n",
              "      <td>112255059.0</td>\n",
              "      <td>41.358025</td>\n",
              "    </tr>\n",
              "    <tr>\n",
              "      <th>421</th>\n",
              "      <td>2014</td>\n",
              "      <td>TOR</td>\n",
              "      <td>83</td>\n",
              "      <td>79</td>\n",
              "      <td>109920100.0</td>\n",
              "      <td>51.234568</td>\n",
              "    </tr>\n",
              "  </tbody>\n",
              "</table>\n",
              "<p>422 rows × 6 columns</p>\n",
              "</div>\n",
              "      <button class=\"colab-df-convert\" onclick=\"convertToInteractive('df-a0bfed22-1b7c-41e1-a9cd-68b8f7e410d1')\"\n",
              "              title=\"Convert this dataframe to an interactive table.\"\n",
              "              style=\"display:none;\">\n",
              "        \n",
              "  <svg xmlns=\"http://www.w3.org/2000/svg\" height=\"24px\"viewBox=\"0 0 24 24\"\n",
              "       width=\"24px\">\n",
              "    <path d=\"M0 0h24v24H0V0z\" fill=\"none\"/>\n",
              "    <path d=\"M18.56 5.44l.94 2.06.94-2.06 2.06-.94-2.06-.94-.94-2.06-.94 2.06-2.06.94zm-11 1L8.5 8.5l.94-2.06 2.06-.94-2.06-.94L8.5 2.5l-.94 2.06-2.06.94zm10 10l.94 2.06.94-2.06 2.06-.94-2.06-.94-.94-2.06-.94 2.06-2.06.94z\"/><path d=\"M17.41 7.96l-1.37-1.37c-.4-.4-.92-.59-1.43-.59-.52 0-1.04.2-1.43.59L10.3 9.45l-7.72 7.72c-.78.78-.78 2.05 0 2.83L4 21.41c.39.39.9.59 1.41.59.51 0 1.02-.2 1.41-.59l7.78-7.78 2.81-2.81c.8-.78.8-2.07 0-2.86zM5.41 20L4 18.59l7.72-7.72 1.47 1.35L5.41 20z\"/>\n",
              "  </svg>\n",
              "      </button>\n",
              "      \n",
              "  <style>\n",
              "    .colab-df-container {\n",
              "      display:flex;\n",
              "      flex-wrap:wrap;\n",
              "      gap: 12px;\n",
              "    }\n",
              "\n",
              "    .colab-df-convert {\n",
              "      background-color: #E8F0FE;\n",
              "      border: none;\n",
              "      border-radius: 50%;\n",
              "      cursor: pointer;\n",
              "      display: none;\n",
              "      fill: #1967D2;\n",
              "      height: 32px;\n",
              "      padding: 0 0 0 0;\n",
              "      width: 32px;\n",
              "    }\n",
              "\n",
              "    .colab-df-convert:hover {\n",
              "      background-color: #E2EBFA;\n",
              "      box-shadow: 0px 1px 2px rgba(60, 64, 67, 0.3), 0px 1px 3px 1px rgba(60, 64, 67, 0.15);\n",
              "      fill: #174EA6;\n",
              "    }\n",
              "\n",
              "    [theme=dark] .colab-df-convert {\n",
              "      background-color: #3B4455;\n",
              "      fill: #D2E3FC;\n",
              "    }\n",
              "\n",
              "    [theme=dark] .colab-df-convert:hover {\n",
              "      background-color: #434B5C;\n",
              "      box-shadow: 0px 1px 3px 1px rgba(0, 0, 0, 0.15);\n",
              "      filter: drop-shadow(0px 1px 2px rgba(0, 0, 0, 0.3));\n",
              "      fill: #FFFFFF;\n",
              "    }\n",
              "  </style>\n",
              "\n",
              "      <script>\n",
              "        const buttonEl =\n",
              "          document.querySelector('#df-a0bfed22-1b7c-41e1-a9cd-68b8f7e410d1 button.colab-df-convert');\n",
              "        buttonEl.style.display =\n",
              "          google.colab.kernel.accessAllowed ? 'block' : 'none';\n",
              "\n",
              "        async function convertToInteractive(key) {\n",
              "          const element = document.querySelector('#df-a0bfed22-1b7c-41e1-a9cd-68b8f7e410d1');\n",
              "          const dataTable =\n",
              "            await google.colab.kernel.invokeFunction('convertToInteractive',\n",
              "                                                     [key], {});\n",
              "          if (!dataTable) return;\n",
              "\n",
              "          const docLinkHtml = 'Like what you see? Visit the ' +\n",
              "            '<a target=\"_blank\" href=https://colab.research.google.com/notebooks/data_table.ipynb>data table notebook</a>'\n",
              "            + ' to learn more about interactive tables.';\n",
              "          element.innerHTML = '';\n",
              "          dataTable['output_type'] = 'display_data';\n",
              "          await google.colab.output.renderOutput(dataTable, element);\n",
              "          const docLink = document.createElement('div');\n",
              "          docLink.innerHTML = docLinkHtml;\n",
              "          element.appendChild(docLink);\n",
              "        }\n",
              "      </script>\n",
              "    </div>\n",
              "  </div>\n",
              "  "
            ]
          },
          "metadata": {},
          "execution_count": 223
        }
      ]
    },
    {
      "cell_type": "markdown",
      "source": [
        "Part 2:"
      ],
      "metadata": {
        "id": "_afSIrzEhw-o"
      }
    },
    {
      "cell_type": "markdown",
      "source": [
        "Problem 2:"
      ],
      "metadata": {
        "id": "WwBbni__HUIE"
      }
    },
    {
      "cell_type": "code",
      "source": [
        "team_salaries.plot(x='yearID',y='total_payroll',kind='scatter')"
      ],
      "metadata": {
        "colab": {
          "base_uri": "https://localhost:8080/",
          "height": 342
        },
        "id": "PZXH-fxYDnF_",
        "outputId": "d1e680a0-7e1d-472f-af69-3a3e955c7a16"
      },
      "execution_count": null,
      "outputs": [
        {
          "output_type": "stream",
          "name": "stderr",
          "text": [
            "/usr/local/lib/python3.9/dist-packages/pandas/plotting/_matplotlib/core.py:1114: UserWarning: No data for colormapping provided via 'c'. Parameters 'cmap' will be ignored\n",
            "  scatter = ax.scatter(\n"
          ]
        },
        {
          "output_type": "execute_result",
          "data": {
            "text/plain": [
              "<Axes: xlabel='yearID', ylabel='total_payroll'>"
            ]
          },
          "metadata": {},
          "execution_count": 224
        },
        {
          "output_type": "display_data",
          "data": {
            "text/plain": [
              "<Figure size 432x288 with 1 Axes>"
            ],
            "image/png": "[encoded data removed]"
          },
          "metadata": {
            "needs_background": "light"
          }
        }
      ]
    },
    {
      "cell_type": "markdown",
      "source": [
        "Question 1: Shown by the plot, the central tendency of the scatterplot shows us that over time, overall payroll for baseball has increased. The spread is very minimal, meaning that the relationship between the payroll and years is strongly correlated. We can see that payroll and the year have a positive linear relationship."
      ],
      "metadata": {
        "id": "PzPXFoBZjUCk"
      }
    },
    {
      "cell_type": "code",
      "source": [
        "import numpy as np\n",
        "years = team_salaries['yearID'].unique()\n",
        "means = []\n",
        "#creating mean pay for each year\n",
        "for year in years:\n",
        "  df = team_salaries[team_salaries['yearID']==year]\n",
        "  means.append(df['total_payroll'].mean())\n",
        "pandas.DataFrame({'yearID' : years, 'mean_payroll' :means}).plot(x='yearID',y='mean_payroll',kind='scatter') \n"
      ],
      "metadata": {
        "colab": {
          "base_uri": "https://localhost:8080/",
          "height": 307
        },
        "id": "vfRHXajED10k",
        "outputId": "9c3db67b-8dee-4580-f41c-9bba002b33ac"
      },
      "execution_count": null,
      "outputs": [
        {
          "output_type": "execute_result",
          "data": {
            "text/plain": [
              "<Axes: xlabel='yearID', ylabel='mean_payroll'>"
            ]
          },
          "metadata": {},
          "execution_count": 225
        },
        {
          "output_type": "display_data",
          "data": {
            "text/plain": [
              "<Figure size 432x288 with 1 Axes>"
            ],
            "image/png": "[encoded data removed]"
          },
          "metadata": {
            "needs_background": "light"
          }
        }
      ]
    },
    {
      "cell_type": "markdown",
      "source": [
        "Problem 3: As you can see, the mean payroll plotted against time shows that overtime, the payroll was increasing linearly."
      ],
      "metadata": {
        "id": "vKpA2FtsG6oJ"
      }
    },
    {
      "cell_type": "markdown",
      "source": [
        "Problem 4:"
      ],
      "metadata": {
        "id": "xZ3vvMzeHWdO"
      }
    },
    {
      "cell_type": "code",
      "source": [
        "#we created a new column to cut our dataframe into 5 equal parts\n",
        "intersect['period'] = pandas.cut(intersect['yearID'], bins=5, labels=['first', 'second', 'third', 'fourth', 'fifth'])\n",
        "#for each bin, we will plot the mean pay vs the year\n",
        "for period in ['first', 'second', 'third', 'fourth', 'fifth']:\n",
        "  df = intersect[intersect['period'] == period ]\n",
        "  mean_payroll =[]\n",
        "  mean_win=[]\n",
        "  years = df['yearID'].unique()\n",
        "  title = str(years[0])+'-'+str(years[-1])\n",
        "  for year in years:\n",
        "    mean_payroll.append(df[df['yearID']==year]['total_payroll'].mean())\n",
        "    mean_win.append(df[df['yearID']==year]['winPercent'].mean())\n",
        "  pandas.DataFrame(\n",
        "      {\n",
        "          'mean_win' : mean_win,\n",
        "          'mean_pay': mean_payroll\n",
        "      }\n",
        "  ).plot(y='mean_win',x='mean_pay', kind='scatter',title= title)"
      ],
      "metadata": {
        "colab": {
          "base_uri": "https://localhost:8080/",
          "height": 1000
        },
        "id": "cKIeHLwedwoE",
        "outputId": "7afe59a5-6b6d-4182-8389-6a996ddff9e1"
      },
      "execution_count": null,
      "outputs": [
        {
          "output_type": "stream",
          "name": "stderr",
          "text": [
            "/usr/local/lib/python3.9/dist-packages/pandas/plotting/_matplotlib/core.py:1114: UserWarning: No data for colormapping provided via 'c'. Parameters 'cmap' will be ignored\n",
            "  scatter = ax.scatter(\n"
          ]
        },
        {
          "output_type": "display_data",
          "data": {
            "text/plain": [
              "<Figure size 432x288 with 1 Axes>"
            ],
            "image/png": "[encoded data removed]"
          },
          "metadata": {
            "needs_background": "light"
          }
        },
        {
          "output_type": "display_data",
          "data": {
            "text/plain": [
              "<Figure size 432x288 with 1 Axes>"
            ],
            "image/png": "[encoded data removed]"
          },
          "metadata": {
            "needs_background": "light"
          }
        },
        {
          "output_type": "display_data",
          "data": {
            "text/plain": [
              "<Figure size 432x288 with 1 Axes>"
            ],
            "image/png": "[encoded data removed]"
          },
          "metadata": {
            "needs_background": "light"
          }
        },
        {
          "output_type": "display_data",
          "data": {
            "text/plain": [
              "<Figure size 432x288 with 1 Axes>"
            ],
            "image/png": "[encoded data removed]"
          },
          "metadata": {
            "needs_background": "light"
          }
        },
        {
          "output_type": "display_data",
          "data": {
            "text/plain": [
              "<Figure size 432x288 with 1 Axes>"
            ],
            "image/png": "[encoded data removed]"
          },
          "metadata": {
            "needs_background": "light"
          }
        }
      ]
    },
    {
      "cell_type": "markdown",
      "source": [
        "Question 2: We can see in the plot above that there is not much correlation between the winning percentage and the pay that a team recieves. That means that a very good player could be bought for very cheap."
      ],
      "metadata": {
        "id": "i2JTAy2WmtTP"
      }
    },
    {
      "cell_type": "markdown",
      "source": [
        "Part 3:"
      ],
      "metadata": {
        "id": "yC4j5JKdsyYe"
      }
    },
    {
      "cell_type": "markdown",
      "source": [
        "Problem 5:"
      ],
      "metadata": {
        "id": "VjMNAysOtqqG"
      }
    },
    {
      "cell_type": "code",
      "source": [
        "years = intersect['yearID'].unique()\n",
        "mean_pay = {}\n",
        "std_pay = {}\n",
        "#getting the mean_pay and standard deviation pay for that year\n",
        "for year in years:\n",
        "  mean_pay[year] = intersect[intersect['yearID']==year]['total_payroll'].mean()\n",
        "  std_pay[year] = intersect[intersect['yearID']==year]['total_payroll'].std()\n",
        "\n",
        "temp = []\n",
        "#getting the standard pay\n",
        "for index, row in intersect.iterrows():\n",
        "  year = row['yearID']\n",
        "  pay = row['total_payroll']\n",
        " \n",
        "  temp.append( (pay- mean_pay[year]) / std_pay[year] )\n",
        "\n",
        "\n",
        "intersect['std_pay']= temp\n",
        "intersect"
      ],
      "metadata": {
        "colab": {
          "base_uri": "https://localhost:8080/",
          "height": 424
        },
        "id": "d4GnlX0Etstp",
        "outputId": "ca06e048-7bdb-4632-c124-96d980ca7c45"
      },
      "execution_count": null,
      "outputs": [
        {
          "output_type": "execute_result",
          "data": {
            "text/plain": [
              "     yearID teamID   W    L  total_payroll  winPercent period   std_pay\n",
              "0      1985    BAL  83   78     11560712.0   51.552795  first  0.682229\n",
              "1      1985    BOS  81   81     10897560.0   50.000000  first  0.451476\n",
              "2      1985    CAL  90   72     14427894.0   55.555556  first  1.679905\n",
              "3      1985    CHA  85   77      9846178.0   52.469136  first  0.085633\n",
              "4      1985    CLE  60  102      6551666.0   37.037037  first -1.060738\n",
              "..      ...    ...  ..  ...            ...         ...    ...       ...\n",
              "417    2014    OAK  88   74     72408400.0   54.320988  fifth -0.752784\n",
              "418    2014    SEA  87   75     92531100.0   53.703704  fifth -0.243271\n",
              "419    2014    TBA  77   85     72689100.0   47.530864  fifth -0.745676\n",
              "420    2014    TEX  67   95    112255059.0   41.358025  fifth  0.256146\n",
              "421    2014    TOR  83   79    109920100.0   51.234568  fifth  0.197024\n",
              "\n",
              "[422 rows x 8 columns]"
            ],
            "text/html": [
              "\n",
              "  <div id=\"df-96619339-4588-4f00-afaa-c13a380444f0\">\n",
              "    <div class=\"colab-df-container\">\n",
              "      <div>\n",
              "<style scoped>\n",
              "    .dataframe tbody tr th:only-of-type {\n",
              "        vertical-align: middle;\n",
              "    }\n",
              "\n",
              "    .dataframe tbody tr th {\n",
              "        vertical-align: top;\n",
              "    }\n",
              "\n",
              "    .dataframe thead th {\n",
              "        text-align: right;\n",
              "    }\n",
              "</style>\n",
              "<table border=\"1\" class=\"dataframe\">\n",
              "  <thead>\n",
              "    <tr style=\"text-align: right;\">\n",
              "      <th></th>\n",
              "      <th>yearID</th>\n",
              "      <th>teamID</th>\n",
              "      <th>W</th>\n",
              "      <th>L</th>\n",
              "      <th>total_payroll</th>\n",
              "      <th>winPercent</th>\n",
              "      <th>period</th>\n",
              "      <th>std_pay</th>\n",
              "    </tr>\n",
              "  </thead>\n",
              "  <tbody>\n",
              "    <tr>\n",
              "      <th>0</th>\n",
              "      <td>1985</td>\n",
              "      <td>BAL</td>\n",
              "      <td>83</td>\n",
              "      <td>78</td>\n",
              "      <td>11560712.0</td>\n",
              "      <td>51.552795</td>\n",
              "      <td>first</td>\n",
              "      <td>0.682229</td>\n",
              "    </tr>\n",
              "    <tr>\n",
              "      <th>1</th>\n",
              "      <td>1985</td>\n",
              "      <td>BOS</td>\n",
              "      <td>81</td>\n",
              "      <td>81</td>\n",
              "      <td>10897560.0</td>\n",
              "      <td>50.000000</td>\n",
              "      <td>first</td>\n",
              "      <td>0.451476</td>\n",
              "    </tr>\n",
              "    <tr>\n",
              "      <th>2</th>\n",
              "      <td>1985</td>\n",
              "      <td>CAL</td>\n",
              "      <td>90</td>\n",
              "      <td>72</td>\n",
              "      <td>14427894.0</td>\n",
              "      <td>55.555556</td>\n",
              "      <td>first</td>\n",
              "      <td>1.679905</td>\n",
              "    </tr>\n",
              "    <tr>\n",
              "      <th>3</th>\n",
              "      <td>1985</td>\n",
              "      <td>CHA</td>\n",
              "      <td>85</td>\n",
              "      <td>77</td>\n",
              "      <td>9846178.0</td>\n",
              "      <td>52.469136</td>\n",
              "      <td>first</td>\n",
              "      <td>0.085633</td>\n",
              "    </tr>\n",
              "    <tr>\n",
              "      <th>4</th>\n",
              "      <td>1985</td>\n",
              "      <td>CLE</td>\n",
              "      <td>60</td>\n",
              "      <td>102</td>\n",
              "      <td>6551666.0</td>\n",
              "      <td>37.037037</td>\n",
              "      <td>first</td>\n",
              "      <td>-1.060738</td>\n",
              "    </tr>\n",
              "    <tr>\n",
              "      <th>...</th>\n",
              "      <td>...</td>\n",
              "      <td>...</td>\n",
              "      <td>...</td>\n",
              "      <td>...</td>\n",
              "      <td>...</td>\n",
              "      <td>...</td>\n",
              "      <td>...</td>\n",
              "      <td>...</td>\n",
              "    </tr>\n",
              "    <tr>\n",
              "      <th>417</th>\n",
              "      <td>2014</td>\n",
              "      <td>OAK</td>\n",
              "      <td>88</td>\n",
              "      <td>74</td>\n",
              "      <td>72408400.0</td>\n",
              "      <td>54.320988</td>\n",
              "      <td>fifth</td>\n",
              "      <td>-0.752784</td>\n",
              "    </tr>\n",
              "    <tr>\n",
              "      <th>418</th>\n",
              "      <td>2014</td>\n",
              "      <td>SEA</td>\n",
              "      <td>87</td>\n",
              "      <td>75</td>\n",
              "      <td>92531100.0</td>\n",
              "      <td>53.703704</td>\n",
              "      <td>fifth</td>\n",
              "      <td>-0.243271</td>\n",
              "    </tr>\n",
              "    <tr>\n",
              "      <th>419</th>\n",
              "      <td>2014</td>\n",
              "      <td>TBA</td>\n",
              "      <td>77</td>\n",
              "      <td>85</td>\n",
              "      <td>72689100.0</td>\n",
              "      <td>47.530864</td>\n",
              "      <td>fifth</td>\n",
              "      <td>-0.745676</td>\n",
              "    </tr>\n",
              "    <tr>\n",
              "      <th>420</th>\n",
              "      <td>2014</td>\n",
              "      <td>TEX</td>\n",
              "      <td>67</td>\n",
              "      <td>95</td>\n",
              "      <td>112255059.0</td>\n",
              "      <td>41.358025</td>\n",
              "      <td>fifth</td>\n",
              "      <td>0.256146</td>\n",
              "    </tr>\n",
              "    <tr>\n",
              "      <th>421</th>\n",
              "      <td>2014</td>\n",
              "      <td>TOR</td>\n",
              "      <td>83</td>\n",
              "      <td>79</td>\n",
              "      <td>109920100.0</td>\n",
              "      <td>51.234568</td>\n",
              "      <td>fifth</td>\n",
              "      <td>0.197024</td>\n",
              "    </tr>\n",
              "  </tbody>\n",
              "</table>\n",
              "<p>422 rows × 8 columns</p>\n",
              "</div>\n",
              "      <button class=\"colab-df-convert\" onclick=\"convertToInteractive('df-96619339-4588-4f00-afaa-c13a380444f0')\"\n",
              "              title=\"Convert this dataframe to an interactive table.\"\n",
              "              style=\"display:none;\">\n",
              "        \n",
              "  <svg xmlns=\"http://www.w3.org/2000/svg\" height=\"24px\"viewBox=\"0 0 24 24\"\n",
              "       width=\"24px\">\n",
              "    <path d=\"M0 0h24v24H0V0z\" fill=\"none\"/>\n",
              "    <path d=\"M18.56 5.44l.94 2.06.94-2.06 2.06-.94-2.06-.94-.94-2.06-.94 2.06-2.06.94zm-11 1L8.5 8.5l.94-2.06 2.06-.94-2.06-.94L8.5 2.5l-.94 2.06-2.06.94zm10 10l.94 2.06.94-2.06 2.06-.94-2.06-.94-.94-2.06-.94 2.06-2.06.94z\"/><path d=\"M17.41 7.96l-1.37-1.37c-.4-.4-.92-.59-1.43-.59-.52 0-1.04.2-1.43.59L10.3 9.45l-7.72 7.72c-.78.78-.78 2.05 0 2.83L4 21.41c.39.39.9.59 1.41.59.51 0 1.02-.2 1.41-.59l7.78-7.78 2.81-2.81c.8-.78.8-2.07 0-2.86zM5.41 20L4 18.59l7.72-7.72 1.47 1.35L5.41 20z\"/>\n",
              "  </svg>\n",
              "      </button>\n",
              "      \n",
              "  <style>\n",
              "    .colab-df-container {\n",
              "      display:flex;\n",
              "      flex-wrap:wrap;\n",
              "      gap: 12px;\n",
              "    }\n",
              "\n",
              "    .colab-df-convert {\n",
              "      background-color: #E8F0FE;\n",
              "      border: none;\n",
              "      border-radius: 50%;\n",
              "      cursor: pointer;\n",
              "      display: none;\n",
              "      fill: #1967D2;\n",
              "      height: 32px;\n",
              "      padding: 0 0 0 0;\n",
              "      width: 32px;\n",
              "    }\n",
              "\n",
              "    .colab-df-convert:hover {\n",
              "      background-color: #E2EBFA;\n",
              "      box-shadow: 0px 1px 2px rgba(60, 64, 67, 0.3), 0px 1px 3px 1px rgba(60, 64, 67, 0.15);\n",
              "      fill: #174EA6;\n",
              "    }\n",
              "\n",
              "    [theme=dark] .colab-df-convert {\n",
              "      background-color: #3B4455;\n",
              "      fill: #D2E3FC;\n",
              "    }\n",
              "\n",
              "    [theme=dark] .colab-df-convert:hover {\n",
              "      background-color: #434B5C;\n",
              "      box-shadow: 0px 1px 3px 1px rgba(0, 0, 0, 0.15);\n",
              "      filter: drop-shadow(0px 1px 2px rgba(0, 0, 0, 0.3));\n",
              "      fill: #FFFFFF;\n",
              "    }\n",
              "  </style>\n",
              "\n",
              "      <script>\n",
              "        const buttonEl =\n",
              "          document.querySelector('#df-96619339-4588-4f00-afaa-c13a380444f0 button.colab-df-convert');\n",
              "        buttonEl.style.display =\n",
              "          google.colab.kernel.accessAllowed ? 'block' : 'none';\n",
              "\n",
              "        async function convertToInteractive(key) {\n",
              "          const element = document.querySelector('#df-96619339-4588-4f00-afaa-c13a380444f0');\n",
              "          const dataTable =\n",
              "            await google.colab.kernel.invokeFunction('convertToInteractive',\n",
              "                                                     [key], {});\n",
              "          if (!dataTable) return;\n",
              "\n",
              "          const docLinkHtml = 'Like what you see? Visit the ' +\n",
              "            '<a target=\"_blank\" href=https://colab.research.google.com/notebooks/data_table.ipynb>data table notebook</a>'\n",
              "            + ' to learn more about interactive tables.';\n",
              "          element.innerHTML = '';\n",
              "          dataTable['output_type'] = 'display_data';\n",
              "          await google.colab.output.renderOutput(dataTable, element);\n",
              "          const docLink = document.createElement('div');\n",
              "          docLink.innerHTML = docLinkHtml;\n",
              "          element.appendChild(docLink);\n",
              "        }\n",
              "      </script>\n",
              "    </div>\n",
              "  </div>\n",
              "  "
            ]
          },
          "metadata": {},
          "execution_count": 228
        }
      ]
    },
    {
      "cell_type": "markdown",
      "source": [
        "Problem 6:"
      ],
      "metadata": {
        "id": "XpZY5g5l5jFr"
      }
    },
    {
      "cell_type": "code",
      "source": [
        "#same thing as Problem 4, but instead of using mean pay we are using standard pay\n",
        "intersect['period'] = pandas.cut(intersect['yearID'], bins=5, labels=['first', 'second', 'third', 'fourth', 'fifth'])\n",
        "for period in ['first', 'second', 'third', 'fourth', 'fifth']:\n",
        "  df = intersect[intersect['period'] == period ]\n",
        "  mean_payroll =[]\n",
        "  mean_win=[]\n",
        "  years = df['yearID'].unique()\n",
        "  title = str(years[0])+'-'+str(years[-1])\n",
        "  for year in years:\n",
        "    mean_payroll.append(df[df['yearID']==year]['std_pay'].mean())\n",
        "    mean_win.append(df[df['yearID']==year]['winPercent'].mean())\n",
        "  pandas.DataFrame(\n",
        "      {\n",
        "          'mean_win' : mean_win,\n",
        "          'mean_pay': mean_payroll\n",
        "      }\n",
        "  ).plot(y='mean_win',x='mean_pay', kind='scatter',title= title)"
      ],
      "metadata": {
        "colab": {
          "base_uri": "https://localhost:8080/",
          "height": 1000
        },
        "id": "A1BK7rI73b-Y",
        "outputId": "d053287c-7f45-4508-e02b-190f244864a7"
      },
      "execution_count": null,
      "outputs": [
        {
          "output_type": "stream",
          "name": "stderr",
          "text": [
            "/usr/local/lib/python3.9/dist-packages/pandas/plotting/_matplotlib/core.py:1114: UserWarning: No data for colormapping provided via 'c'. Parameters 'cmap' will be ignored\n",
            "  scatter = ax.scatter(\n"
          ]
        },
        {
          "output_type": "display_data",
          "data": {
            "text/plain": [
              "<Figure size 432x288 with 1 Axes>"
            ],
            "image/png": "[encoded data removed]"
          },
          "metadata": {
            "needs_background": "light"
          }
        },
        {
          "output_type": "display_data",
          "data": {
            "text/plain": [
              "<Figure size 432x288 with 1 Axes>"
            ],
            "image/png": "[encoded data removed]"
          },
          "metadata": {
            "needs_background": "light"
          }
        },
        {
          "output_type": "display_data",
          "data": {
            "text/plain": [
              "<Figure size 432x288 with 1 Axes>"
            ],
            "image/png": "[encoded data removed]"
          },
          "metadata": {
            "needs_background": "light"
          }
        },
        {
          "output_type": "display_data",
          "data": {
            "text/plain": [
              "<Figure size 432x288 with 1 Axes>"
            ],
            "image/png": "[encoded data removed]"
          },
          "metadata": {
            "needs_background": "light"
          }
        },
        {
          "output_type": "display_data",
          "data": {
            "text/plain": [
              "<Figure size 432x288 with 1 Axes>"
            ],
            "image/png": "[encoded data removed]"
          },
          "metadata": {
            "needs_background": "light"
          }
        }
      ]
    },
    {
      "cell_type": "markdown",
      "source": [
        "Question 3: The plot from problem 4 was simply plotted the mean pay vs the mean win while the plot from problem 6 plotted the standard pay vs the mean win. The standard pay shows how far the payroll is from the average payroll of that year. That is way it looks more distributed towards the left and right vs the line for the average payroll"
      ],
      "metadata": {
        "id": "CbbxBe_N5ga-"
      }
    },
    {
      "cell_type": "markdown",
      "source": [
        "Problem 7:"
      ],
      "metadata": {
        "id": "CpfzhG2j7CyU"
      }
    },
    {
      "cell_type": "code",
      "source": [
        "import numpy as np\n",
        "import matplotlib.pyplot as plt\n",
        "x = intersect['std_pay']\n",
        "y = intersect['winPercent']\n",
        "#creating and plotting our regression line\n",
        "coef =np.polyfit(intersect['std_pay'], intersect['winPercent'], deg=1)\n",
        "poly = np.poly1d(coef)\n",
        "plt.plot(x,y, 'yo', x, poly(x), '--k')"
      ],
      "metadata": {
        "colab": {
          "base_uri": "https://localhost:8080/",
          "height": 300
        },
        "id": "ihaI1-pR7ASZ",
        "outputId": "ad5d10c5-e7f8-4297-c015-dc546e865b66"
      },
      "execution_count": null,
      "outputs": [
        {
          "output_type": "execute_result",
          "data": {
            "text/plain": [
              "[<matplotlib.lines.Line2D at 0x7fa6df1ba520>,\n",
              " <matplotlib.lines.Line2D at 0x7fa6df1ba5b0>]"
            ]
          },
          "metadata": {},
          "execution_count": 230
        },
        {
          "output_type": "display_data",
          "data": {
            "text/plain": [
              "<Figure size 432x288 with 1 Axes>"
            ],
            "image/png": "[encoded data removed]"
          },
          "metadata": {
            "needs_background": "light"
          }
        }
      ]
    },
    {
      "cell_type": "markdown",
      "source": [
        "Problem 8:"
      ],
      "metadata": {
        "id": "YnpCvlBrOcyy"
      }
    },
    {
      "cell_type": "code",
      "source": [
        "#creating the columns for estimated win percentage and the efficiency score\n",
        "intersect['estimated_win'] = 50 + 2.5*intersect['std_pay']\n",
        "intersect['efficiency'] = intersect['winPercent']- intersect['estimated_win']\n",
        "#i decided to plot each team available in the dataframe\n",
        "for team in intersect['teamID'].unique():\n",
        "  df = intersect[intersect['teamID']==team]\n",
        "  df.plot(x='yearID',y='efficiency',title=team,kind='scatter')"
      ],
      "metadata": {
        "colab": {
          "base_uri": "https://localhost:8080/",
          "height": 1000
        },
        "id": "AagJQ-s9TBZa",
        "outputId": "6e88d025-14ad-4de1-b1b3-efffbc38889e"
      },
      "execution_count": null,
      "outputs": [
        {
          "output_type": "stream",
          "name": "stderr",
          "text": [
            "/usr/local/lib/python3.9/dist-packages/pandas/plotting/_matplotlib/core.py:1114: UserWarning: No data for colormapping provided via 'c'. Parameters 'cmap' will be ignored\n",
            "  scatter = ax.scatter(\n"
          ]
        },
        {
          "output_type": "display_data",
          "data": {
            "text/plain": [
              "<Figure size 432x288 with 1 Axes>"
            ],
            "image/png": "[encoded data removed]"
          },
          "metadata": {
            "needs_background": "light"
          }
        },
        {
          "output_type": "display_data",
          "data": {
            "text/plain": [
              "<Figure size 432x288 with 1 Axes>"
            ],
            "image/png": "[encoded data removed]"
          },
          "metadata": {
            "needs_background": "light"
          }
        },
        {
          "output_type": "display_data",
          "data": {
            "text/plain": [
              "<Figure size 432x288 with 1 Axes>"
            ],
            "image/png": "[encoded data removed]"
          },
          "metadata": {
            "needs_background": "light"
          }
        },
        {
          "output_type": "display_data",
          "data": {
            "text/plain": [
              "<Figure size 432x288 with 1 Axes>"
            ],
            "image/png": "[encoded data removed]"
          },
          "metadata": {
            "needs_background": "light"
          }
        },
        {
          "output_type": "display_data",
          "data": {
            "text/plain": [
              "<Figure size 432x288 with 1 Axes>"
            ],
            "image/png": "[encoded data removed]"
          },
          "metadata": {
            "needs_background": "light"
          }
        },
        {
          "output_type": "display_data",
          "data": {
            "text/plain": [
              "<Figure size 432x288 with 1 Axes>"
            ],
            "image/png": "[encoded data removed]"
          },
          "metadata": {
            "needs_background": "light"
          }
        },
        {
          "output_type": "display_data",
          "data": {
            "text/plain": [
              "<Figure size 432x288 with 1 Axes>"
            ],
            "image/png": "[encoded data removed]"
          },
          "metadata": {
            "needs_background": "light"
          }
        },
        {
          "output_type": "display_data",
          "data": {
            "text/plain": [
              "<Figure size 432x288 with 1 Axes>"
            ],
            "image/png": "[encoded data removed]"
          },
          "metadata": {
            "needs_background": "light"
          }
        },
        {
          "output_type": "display_data",
          "data": {
            "text/plain": [
              "<Figure size 432x288 with 1 Axes>"
            ],
            "image/png": "[encoded data removed]"
          },
          "metadata": {
            "needs_background": "light"
          }
        },
        {
          "output_type": "display_data",
          "data": {
            "text/plain": [
              "<Figure size 432x288 with 1 Axes>"
            ],
            "image/png": "[encoded data removed]"
          },
          "metadata": {
            "needs_background": "light"
          }
        },
        {
          "output_type": "display_data",
          "data": {
            "text/plain": [
              "<Figure size 432x288 with 1 Axes>"
            ],
            "image/png": "[encoded data removed]"
          },
          "metadata": {
            "needs_background": "light"
          }
        },
        {
          "output_type": "display_data",
          "data": {
            "text/plain": [
              "<Figure size 432x288 with 1 Axes>"
            ],
            "image/png": "[encoded data removed]"
          },
          "metadata": {
            "needs_background": "light"
          }
        },
        {
          "output_type": "display_data",
          "data": {
            "text/plain": [
              "<Figure size 432x288 with 1 Axes>"
            ],
            "image/png": "[encoded data removed]"
          },
          "metadata": {
            "needs_background": "light"
          }
        },
        {
          "output_type": "display_data",
          "data": {
            "text/plain": [
              "<Figure size 432x288 with 1 Axes>"
            ],
            "image/png": "[encoded data removed]"
          },
          "metadata": {
            "needs_background": "light"
          }
        },
        {
          "output_type": "display_data",
          "data": {
            "text/plain": [
              "<Figure size 432x288 with 1 Axes>"
            ],
            "image/png": "[encoded data removed]"
          },
          "metadata": {
            "needs_background": "light"
          }
        },
        {
          "output_type": "display_data",
          "data": {
            "text/plain": [
              "<Figure size 432x288 with 1 Axes>"
            ],
            "image/png": "[encoded data removed]"
          },
          "metadata": {
            "needs_background": "light"
          }
        },
        {
          "output_type": "display_data",
          "data": {
            "text/plain": [
              "<Figure size 432x288 with 1 Axes>"
            ],
            "image/png": "[encoded data removed]"
          },
          "metadata": {
            "needs_background": "light"
          }
        },
        {
          "output_type": "display_data",
          "data": {
            "text/plain": [
              "<Figure size 432x288 with 1 Axes>"
            ],
            "image/png": "[encoded data removed]"
          },
          "metadata": {
            "needs_background": "light"
          }
        }
      ]
    },
    {
      "cell_type": "markdown",
      "source": [
        "For the ATL team, before 1991, the efficiency score of their players were not good. however after 1991, the efficiency score was above 10 points of their expected ability."
      ],
      "metadata": {
        "id": "GVA7Yi8_VXDN"
      }
    },
    {
      "cell_type": "markdown",
      "source": [
        "Question 4:\n",
        "Looking back at Questions 2 and three, we can see forshadowing of this-, it is clear that certain teams are outperforming what is expected of them for their cost. Many teams like Oakland, seem to be exploiting that- getting undervalued players on the team and winning games with the most cost effective players. Oakland, exploting the strategy to buy up these undervalued players of course, had high efficiencies."
      ],
      "metadata": {
        "id": "wgySblSpVzHs"
      }
    }
  ]
}